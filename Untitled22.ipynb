{
  "nbformat": 4,
  "nbformat_minor": 0,
  "metadata": {
    "colab": {
      "provenance": []
    },
    "kernelspec": {
      "name": "python3",
      "display_name": "Python 3"
    },
    "language_info": {
      "name": "python"
    }
  },
  "cells": [
    {
      "cell_type": "code",
      "execution_count": 1,
      "metadata": {
        "id": "yNKq4egGg0Q6"
      },
      "outputs": [],
      "source": [
        "import pandas as pd\n",
        "\n",
        "# Load the dataset\n",
        "file_path = \"food_coded.csv\"  # Ensure the file is in the same directory or provide the full path\n",
        "data = pd.read_csv(file_path)"
      ]
    },
    {
      "cell_type": "code",
      "source": [
        "\n",
        "# Step 1: Inspect the dataset\n",
        "print(\"First 5 rows of the dataset:\")\n",
        "print(data.head())\n",
        "print(\"\\nDataset Information:\")\n",
        "print(data.info())\n",
        "print(\"\\nSummary Statistics:\")\n",
        "print(data.describe())"
      ],
      "metadata": {
        "colab": {
          "base_uri": "https://localhost:8080/"
        },
        "id": "hDOKU0ZkhDjI",
        "outputId": "12f234c7-45c7-419b-d497-b84f44511bcc"
      },
      "execution_count": 2,
      "outputs": [
        {
          "output_type": "stream",
          "name": "stdout",
          "text": [
            "First 5 rows of the dataset:\n",
            "     GPA  Gender  breakfast  calories_chicken  calories_day  calories_scone  \\\n",
            "0    2.4       2          1               430           NaN           315.0   \n",
            "1  3.654       1          1               610           3.0           420.0   \n",
            "2    3.3       1          1               720           4.0           420.0   \n",
            "3    3.2       1          1               430           3.0           420.0   \n",
            "4    3.5       1          1               720           2.0           420.0   \n",
            "\n",
            "   coffee                      comfort_food        comfort_food_reasons  \\\n",
            "0       1                              none       we dont have comfort    \n",
            "1       2       chocolate, chips, ice cream        Stress, bored, anger   \n",
            "2       2   frozen yogurt, pizza, fast food             stress, sadness   \n",
            "3       2  Pizza, Mac and cheese, ice cream                     Boredom   \n",
            "4       2      Ice cream, chocolate, chips   Stress, boredom, cravings    \n",
            "\n",
            "   comfort_food_reasons_coded  ...  soup  sports  thai_food tortilla_calories  \\\n",
            "0                         9.0  ...   1.0     1.0          1            1165.0   \n",
            "1                         1.0  ...   1.0     1.0          2             725.0   \n",
            "2                         1.0  ...   1.0     2.0          5            1165.0   \n",
            "3                         2.0  ...   1.0     2.0          5             725.0   \n",
            "4                         1.0  ...   1.0     1.0          4             940.0   \n",
            "\n",
            "   turkey_calories  type_sports veggies_day  vitamins  waffle_calories  \\\n",
            "0              345   car racing           5         1             1315   \n",
            "1              690  Basketball            4         2              900   \n",
            "2              500         none           5         1              900   \n",
            "3              690          NaN           3         1             1315   \n",
            "4              500     Softball           4         2              760   \n",
            "\n",
            "                     weight  \n",
            "0                       187  \n",
            "1                       155  \n",
            "2  I'm not answering this.   \n",
            "3             Not sure, 240  \n",
            "4                       190  \n",
            "\n",
            "[5 rows x 61 columns]\n",
            "\n",
            "Dataset Information:\n",
            "<class 'pandas.core.frame.DataFrame'>\n",
            "RangeIndex: 125 entries, 0 to 124\n",
            "Data columns (total 61 columns):\n",
            " #   Column                        Non-Null Count  Dtype  \n",
            "---  ------                        --------------  -----  \n",
            " 0   GPA                           123 non-null    object \n",
            " 1   Gender                        125 non-null    int64  \n",
            " 2   breakfast                     125 non-null    int64  \n",
            " 3   calories_chicken              125 non-null    int64  \n",
            " 4   calories_day                  106 non-null    float64\n",
            " 5   calories_scone                124 non-null    float64\n",
            " 6   coffee                        125 non-null    int64  \n",
            " 7   comfort_food                  124 non-null    object \n",
            " 8   comfort_food_reasons          123 non-null    object \n",
            " 9   comfort_food_reasons_coded    106 non-null    float64\n",
            " 10  cook                          122 non-null    float64\n",
            " 11  comfort_food_reasons_coded.1  125 non-null    int64  \n",
            " 12  cuisine                       108 non-null    float64\n",
            " 13  diet_current                  124 non-null    object \n",
            " 14  diet_current_coded            125 non-null    int64  \n",
            " 15  drink                         123 non-null    float64\n",
            " 16  eating_changes                122 non-null    object \n",
            " 17  eating_changes_coded          125 non-null    int64  \n",
            " 18  eating_changes_coded1         125 non-null    int64  \n",
            " 19  eating_out                    125 non-null    int64  \n",
            " 20  employment                    116 non-null    float64\n",
            " 21  ethnic_food                   125 non-null    int64  \n",
            " 22  exercise                      112 non-null    float64\n",
            " 23  father_education              124 non-null    float64\n",
            " 24  father_profession             122 non-null    object \n",
            " 25  fav_cuisine                   123 non-null    object \n",
            " 26  fav_cuisine_coded             125 non-null    int64  \n",
            " 27  fav_food                      123 non-null    float64\n",
            " 28  food_childhood                124 non-null    object \n",
            " 29  fries                         125 non-null    int64  \n",
            " 30  fruit_day                     125 non-null    int64  \n",
            " 31  grade_level                   125 non-null    int64  \n",
            " 32  greek_food                    125 non-null    int64  \n",
            " 33  healthy_feeling               125 non-null    int64  \n",
            " 34  healthy_meal                  124 non-null    object \n",
            " 35  ideal_diet                    124 non-null    object \n",
            " 36  ideal_diet_coded              125 non-null    int64  \n",
            " 37  income                        124 non-null    float64\n",
            " 38  indian_food                   125 non-null    int64  \n",
            " 39  italian_food                  125 non-null    int64  \n",
            " 40  life_rewarding                124 non-null    float64\n",
            " 41  marital_status                124 non-null    float64\n",
            " 42  meals_dinner_friend           122 non-null    object \n",
            " 43  mother_education              122 non-null    float64\n",
            " 44  mother_profession             123 non-null    object \n",
            " 45  nutritional_check             125 non-null    int64  \n",
            " 46  on_off_campus                 124 non-null    float64\n",
            " 47  parents_cook                  125 non-null    int64  \n",
            " 48  pay_meal_out                  125 non-null    int64  \n",
            " 49  persian_food                  124 non-null    float64\n",
            " 50  self_perception_weight        124 non-null    float64\n",
            " 51  soup                          124 non-null    float64\n",
            " 52  sports                        123 non-null    float64\n",
            " 53  thai_food                     125 non-null    int64  \n",
            " 54  tortilla_calories             124 non-null    float64\n",
            " 55  turkey_calories               125 non-null    int64  \n",
            " 56  type_sports                   99 non-null     object \n",
            " 57  veggies_day                   125 non-null    int64  \n",
            " 58  vitamins                      125 non-null    int64  \n",
            " 59  waffle_calories               125 non-null    int64  \n",
            " 60  weight                        123 non-null    object \n",
            "dtypes: float64(20), int64(27), object(14)\n",
            "memory usage: 59.7+ KB\n",
            "None\n",
            "\n",
            "Summary Statistics:\n",
            "           Gender   breakfast  calories_chicken  calories_day  calories_scone  \\\n",
            "count  125.000000  125.000000        125.000000    106.000000      124.000000   \n",
            "mean     1.392000    1.112000        577.320000      3.028302      505.241935   \n",
            "std      0.490161    0.316636        131.214156      0.639308      230.840506   \n",
            "min      1.000000    1.000000        265.000000      2.000000      315.000000   \n",
            "25%      1.000000    1.000000        430.000000      3.000000      420.000000   \n",
            "50%      1.000000    1.000000        610.000000      3.000000      420.000000   \n",
            "75%      2.000000    1.000000        720.000000      3.000000      420.000000   \n",
            "max      2.000000    2.000000        720.000000      4.000000      980.000000   \n",
            "\n",
            "          coffee  comfort_food_reasons_coded        cook  \\\n",
            "count  125.00000                  106.000000  122.000000   \n",
            "mean     1.75200                    2.698113    2.786885   \n",
            "std      0.43359                    1.972042    1.038351   \n",
            "min      1.00000                    1.000000    1.000000   \n",
            "25%      2.00000                    2.000000    2.000000   \n",
            "50%      2.00000                    2.000000    3.000000   \n",
            "75%      2.00000                    3.000000    3.000000   \n",
            "max      2.00000                    9.000000    5.000000   \n",
            "\n",
            "       comfort_food_reasons_coded.1     cuisine  ...  persian_food  \\\n",
            "count                    125.000000  108.000000  ...    124.000000   \n",
            "mean                       2.688000    1.388889  ...      2.806452   \n",
            "std                        1.910987    0.974759  ...      1.423824   \n",
            "min                        1.000000    1.000000  ...      1.000000   \n",
            "25%                        2.000000    1.000000  ...      2.000000   \n",
            "50%                        2.000000    1.000000  ...      3.000000   \n",
            "75%                        3.000000    1.000000  ...      4.000000   \n",
            "max                        9.000000    6.000000  ...      5.000000   \n",
            "\n",
            "       self_perception_weight        soup      sports   thai_food  \\\n",
            "count              124.000000  124.000000  123.000000  125.000000   \n",
            "mean                 3.120968    1.217742    1.390244    3.336000   \n",
            "std                  1.115980    0.414385    0.489800    1.436528   \n",
            "min                  1.000000    1.000000    1.000000    1.000000   \n",
            "25%                  2.000000    1.000000    1.000000    2.000000   \n",
            "50%                  3.000000    1.000000    1.000000    3.000000   \n",
            "75%                  4.000000    1.000000    2.000000    5.000000   \n",
            "max                  6.000000    2.000000    2.000000    5.000000   \n",
            "\n",
            "       tortilla_calories  turkey_calories  veggies_day    vitamins  \\\n",
            "count         124.000000       125.000000   125.000000  125.000000   \n",
            "mean          947.580645       555.040000     4.008000    1.512000   \n",
            "std           202.090179       152.370379     1.081337    0.501867   \n",
            "min           580.000000       345.000000     1.000000    1.000000   \n",
            "25%           725.000000       500.000000     3.000000    1.000000   \n",
            "50%           940.000000       500.000000     4.000000    2.000000   \n",
            "75%          1165.000000       690.000000     5.000000    2.000000   \n",
            "max          1165.000000       850.000000     5.000000    2.000000   \n",
            "\n",
            "       waffle_calories  \n",
            "count       125.000000  \n",
            "mean       1073.400000  \n",
            "std         248.667092  \n",
            "min         575.000000  \n",
            "25%         900.000000  \n",
            "50%         900.000000  \n",
            "75%        1315.000000  \n",
            "max        1315.000000  \n",
            "\n",
            "[8 rows x 47 columns]\n"
          ]
        }
      ]
    },
    {
      "cell_type": "code",
      "source": [
        "# Step 2: Check for missing values\n",
        "missing_values = data.isnull().sum()\n",
        "print(\"\\nMissing values in each column:\")\n",
        "print(missing_values)\n"
      ],
      "metadata": {
        "colab": {
          "base_uri": "https://localhost:8080/"
        },
        "id": "1NsdxJNUhGGI",
        "outputId": "10ca0b27-da05-4fa4-956e-98d44f9beb93"
      },
      "execution_count": 3,
      "outputs": [
        {
          "output_type": "stream",
          "name": "stdout",
          "text": [
            "\n",
            "Missing values in each column:\n",
            "GPA                  2\n",
            "Gender               0\n",
            "breakfast            0\n",
            "calories_chicken     0\n",
            "calories_day        19\n",
            "                    ..\n",
            "type_sports         26\n",
            "veggies_day          0\n",
            "vitamins             0\n",
            "waffle_calories      0\n",
            "weight               2\n",
            "Length: 61, dtype: int64\n"
          ]
        }
      ]
    },
    {
      "cell_type": "code",
      "source": [
        "# Step 3: Handle missing values\n",
        "# Drop columns with excessive missing values (e.g., more than 50% missing)\n",
        "threshold = len(data) * 0.5\n",
        "data = data.loc[:, data.isnull().sum() <= threshold]\n",
        "\n",
        "# Fill missing values in numeric columns with the median\n",
        "for col in data.select_dtypes(include=['float64', 'int64']):\n",
        "    data[col].fillna(data[col].median(), inplace=True)\n",
        "\n",
        "# Fill missing values in categorical columns with the mode\n",
        "for col in data.select_dtypes(include=['object']):\n",
        "    data[col].fillna(data[col].mode()[0], inplace=True)"
      ],
      "metadata": {
        "colab": {
          "base_uri": "https://localhost:8080/"
        },
        "id": "7gJiKoqBhJj7",
        "outputId": "01d44eb2-83d8-48b4-f977-3475f8d8f9fe"
      },
      "execution_count": 5,
      "outputs": [
        {
          "output_type": "stream",
          "name": "stderr",
          "text": [
            "<ipython-input-5-9e4a95901900>:8: FutureWarning: A value is trying to be set on a copy of a DataFrame or Series through chained assignment using an inplace method.\n",
            "The behavior will change in pandas 3.0. This inplace method will never work because the intermediate object on which we are setting values always behaves as a copy.\n",
            "\n",
            "For example, when doing 'df[col].method(value, inplace=True)', try using 'df.method({col: value}, inplace=True)' or df[col] = df[col].method(value) instead, to perform the operation inplace on the original object.\n",
            "\n",
            "\n",
            "  data[col].fillna(data[col].median(), inplace=True)\n",
            "<ipython-input-5-9e4a95901900>:12: FutureWarning: A value is trying to be set on a copy of a DataFrame or Series through chained assignment using an inplace method.\n",
            "The behavior will change in pandas 3.0. This inplace method will never work because the intermediate object on which we are setting values always behaves as a copy.\n",
            "\n",
            "For example, when doing 'df[col].method(value, inplace=True)', try using 'df.method({col: value}, inplace=True)' or df[col] = df[col].method(value) instead, to perform the operation inplace on the original object.\n",
            "\n",
            "\n",
            "  data[col].fillna(data[col].mode()[0], inplace=True)\n"
          ]
        }
      ]
    },
    {
      "cell_type": "code",
      "source": [
        "# Step 4: Remove duplicates\n",
        "data = data.drop_duplicates()"
      ],
      "metadata": {
        "id": "OlgSNDLlhMFB"
      },
      "execution_count": 6,
      "outputs": []
    },
    {
      "cell_type": "code",
      "source": [
        "# Step 5: Ensure data consistency (e.g., standardize text format)\n",
        "# Convert all text columns to lowercase for consistency\n",
        "for col in data.select_dtypes(include=['object']):\n",
        "    data[col] = data[col].str.lower()"
      ],
      "metadata": {
        "id": "T5IGlxwahTBO"
      },
      "execution_count": 7,
      "outputs": []
    },
    {
      "cell_type": "code",
      "source": [
        "# Step 6: Verify cleaning\n",
        "print(\"\\nDataset Information after cleaning:\")\n",
        "print(data.info())"
      ],
      "metadata": {
        "colab": {
          "base_uri": "https://localhost:8080/"
        },
        "id": "9MC1INiqhU9v",
        "outputId": "28ec7ab9-d0be-4c0d-cf0f-4847f9dad0dc"
      },
      "execution_count": 8,
      "outputs": [
        {
          "output_type": "stream",
          "name": "stdout",
          "text": [
            "\n",
            "Dataset Information after cleaning:\n",
            "<class 'pandas.core.frame.DataFrame'>\n",
            "RangeIndex: 125 entries, 0 to 124\n",
            "Data columns (total 61 columns):\n",
            " #   Column                        Non-Null Count  Dtype  \n",
            "---  ------                        --------------  -----  \n",
            " 0   GPA                           125 non-null    object \n",
            " 1   Gender                        125 non-null    int64  \n",
            " 2   breakfast                     125 non-null    int64  \n",
            " 3   calories_chicken              125 non-null    int64  \n",
            " 4   calories_day                  125 non-null    float64\n",
            " 5   calories_scone                125 non-null    float64\n",
            " 6   coffee                        125 non-null    int64  \n",
            " 7   comfort_food                  125 non-null    object \n",
            " 8   comfort_food_reasons          125 non-null    object \n",
            " 9   comfort_food_reasons_coded    125 non-null    float64\n",
            " 10  cook                          125 non-null    float64\n",
            " 11  comfort_food_reasons_coded.1  125 non-null    int64  \n",
            " 12  cuisine                       125 non-null    float64\n",
            " 13  diet_current                  125 non-null    object \n",
            " 14  diet_current_coded            125 non-null    int64  \n",
            " 15  drink                         125 non-null    float64\n",
            " 16  eating_changes                125 non-null    object \n",
            " 17  eating_changes_coded          125 non-null    int64  \n",
            " 18  eating_changes_coded1         125 non-null    int64  \n",
            " 19  eating_out                    125 non-null    int64  \n",
            " 20  employment                    125 non-null    float64\n",
            " 21  ethnic_food                   125 non-null    int64  \n",
            " 22  exercise                      125 non-null    float64\n",
            " 23  father_education              125 non-null    float64\n",
            " 24  father_profession             125 non-null    object \n",
            " 25  fav_cuisine                   125 non-null    object \n",
            " 26  fav_cuisine_coded             125 non-null    int64  \n",
            " 27  fav_food                      125 non-null    float64\n",
            " 28  food_childhood                125 non-null    object \n",
            " 29  fries                         125 non-null    int64  \n",
            " 30  fruit_day                     125 non-null    int64  \n",
            " 31  grade_level                   125 non-null    int64  \n",
            " 32  greek_food                    125 non-null    int64  \n",
            " 33  healthy_feeling               125 non-null    int64  \n",
            " 34  healthy_meal                  125 non-null    object \n",
            " 35  ideal_diet                    125 non-null    object \n",
            " 36  ideal_diet_coded              125 non-null    int64  \n",
            " 37  income                        125 non-null    float64\n",
            " 38  indian_food                   125 non-null    int64  \n",
            " 39  italian_food                  125 non-null    int64  \n",
            " 40  life_rewarding                125 non-null    float64\n",
            " 41  marital_status                125 non-null    float64\n",
            " 42  meals_dinner_friend           125 non-null    object \n",
            " 43  mother_education              125 non-null    float64\n",
            " 44  mother_profession             125 non-null    object \n",
            " 45  nutritional_check             125 non-null    int64  \n",
            " 46  on_off_campus                 125 non-null    float64\n",
            " 47  parents_cook                  125 non-null    int64  \n",
            " 48  pay_meal_out                  125 non-null    int64  \n",
            " 49  persian_food                  125 non-null    float64\n",
            " 50  self_perception_weight        125 non-null    float64\n",
            " 51  soup                          125 non-null    float64\n",
            " 52  sports                        125 non-null    float64\n",
            " 53  thai_food                     125 non-null    int64  \n",
            " 54  tortilla_calories             125 non-null    float64\n",
            " 55  turkey_calories               125 non-null    int64  \n",
            " 56  type_sports                   125 non-null    object \n",
            " 57  veggies_day                   125 non-null    int64  \n",
            " 58  vitamins                      125 non-null    int64  \n",
            " 59  waffle_calories               125 non-null    int64  \n",
            " 60  weight                        125 non-null    object \n",
            "dtypes: float64(20), int64(27), object(14)\n",
            "memory usage: 59.7+ KB\n",
            "None\n"
          ]
        }
      ]
    },
    {
      "cell_type": "code",
      "source": [
        "# Step 7: Save the cleaned dataset\n",
        "cleaned_file_path = \"food_coded_cleaned.csv\"\n",
        "data.to_csv(cleaned_file_path, index=False)\n",
        "print(f\"\\nCleaned dataset saved to {cleaned_file_path}.\")"
      ],
      "metadata": {
        "colab": {
          "base_uri": "https://localhost:8080/"
        },
        "id": "3PpegXxmhXTX",
        "outputId": "e096163d-278c-48a3-9e0d-d9e388690f91"
      },
      "execution_count": 9,
      "outputs": [
        {
          "output_type": "stream",
          "name": "stdout",
          "text": [
            "\n",
            "Cleaned dataset saved to food_coded_cleaned.csv.\n"
          ]
        }
      ]
    },
    {
      "cell_type": "code",
      "source": [],
      "metadata": {
        "id": "3yjgjx4khcqp"
      },
      "execution_count": null,
      "outputs": []
    }
  ]
}